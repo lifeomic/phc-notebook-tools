{
 "cells": [
  {
   "cell_type": "code",
   "execution_count": 1,
   "id": "5d57e6c8-3b65-4150-94bd-ffeeba96037f",
   "metadata": {
    "execution": {
     "iopub.execute_input": "2021-07-15T19:22:45.440059Z",
     "iopub.status.busy": "2021-07-15T19:22:45.434973Z",
     "iopub.status.idle": "2021-07-15T19:22:45.444913Z",
     "shell.execute_reply": "2021-07-15T19:22:45.444154Z"
    },
    "papermill": {
     "duration": 0.054524,
     "end_time": "2021-07-15T19:22:45.445099",
     "exception": false,
     "start_time": "2021-07-15T19:22:45.390575",
     "status": "completed"
    },
    "tags": [
     "parameters"
    ]
   },
   "outputs": [],
   "source": [
    "a: int = 1 # a variable\n",
    "b: str = 'foo' # b variable\n",
    "\n",
    "# input: str = 'input.txt' # input file\n",
    "# output: str = 'test.txt' # output file\n"
   ]
  },
  {
   "cell_type": "code",
   "execution_count": 2,
   "id": "822a9ed9",
   "metadata": {
    "execution": {
     "iopub.execute_input": "2021-07-15T19:22:45.462969Z",
     "iopub.status.busy": "2021-07-15T19:22:45.462103Z",
     "iopub.status.idle": "2021-07-15T19:22:45.464362Z",
     "shell.execute_reply": "2021-07-15T19:22:45.465051Z"
    },
    "papermill": {
     "duration": 0.013144,
     "end_time": "2021-07-15T19:22:45.465236",
     "exception": false,
     "start_time": "2021-07-15T19:22:45.452092",
     "status": "completed"
    },
    "tags": [
     "injected-parameters"
    ]
   },
   "outputs": [],
   "source": [
    "# Parameters\n",
    "a = 2\n",
    "b = \"bar\"\n"
   ]
  },
  {
   "cell_type": "code",
   "execution_count": 3,
   "id": "3b12fe77-e25b-41f8-992d-f6938a456391",
   "metadata": {
    "execution": {
     "iopub.execute_input": "2021-07-15T19:22:45.480922Z",
     "iopub.status.busy": "2021-07-15T19:22:45.480108Z",
     "iopub.status.idle": "2021-07-15T19:22:45.482911Z",
     "shell.execute_reply": "2021-07-15T19:22:45.483410Z"
    },
    "papermill": {
     "duration": 0.012954,
     "end_time": "2021-07-15T19:22:45.483547",
     "exception": false,
     "start_time": "2021-07-15T19:22:45.470593",
     "status": "completed"
    },
    "tags": []
   },
   "outputs": [
    {
     "name": "stdout",
     "output_type": "stream",
     "text": [
      "2 bar\n"
     ]
    }
   ],
   "source": [
    "# with open(output, mode='w') as f:\n",
    "#    print(a, b, file=f)\n",
    "print(a,b)"
   ]
  }
 ],
 "metadata": {
  "kernelspec": {
   "display_name": "Python 3 (ipykernel)",
   "language": "python",
   "name": "python3"
  },
  "language_info": {
   "codemirror_mode": {
    "name": "ipython",
    "version": 3
   },
   "file_extension": ".py",
   "mimetype": "text/x-python",
   "name": "python",
   "nbconvert_exporter": "python",
   "pygments_lexer": "ipython3",
   "version": "3.6.12"
  },
  "papermill": {
   "default_parameters": {},
   "duration": 1.450192,
   "end_time": "2021-07-15T19:22:45.794653",
   "environment_variables": {},
   "exception": null,
   "input_path": "/var/lib/cwl/stg5377ba17-a59f-4356-b36e-818898082910/test.ipynb",
   "output_path": "output.ipynb",
   "parameters": {
    "a": 2,
    "b": "bar"
   },
   "start_time": "2021-07-15T19:22:44.344461",
   "version": "2.3.3"
  }
 },
 "nbformat": 4,
 "nbformat_minor": 5
}