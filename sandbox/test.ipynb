{
 "cells": [
  {
   "cell_type": "code",
   "execution_count": 17,
   "id": "5d57e6c8-3b65-4150-94bd-ffeeba96037f",
   "metadata": {
    "tags": [
     "parameters"
    ]
   },
   "outputs": [],
   "source": [
    "a: int = 1 # a variable\n",
    "b: str = 'foo' # b variable\n",
    "\n",
    "# input: str = 'input.txt' # input file\n",
    "# output: str = 'test.txt' # output file\n"
   ]
  },
  {
   "cell_type": "code",
   "execution_count": 18,
   "id": "3b12fe77-e25b-41f8-992d-f6938a456391",
   "metadata": {},
   "outputs": [
    {
     "name": "stdout",
     "output_type": "stream",
     "text": [
      "1 foo\n"
     ]
    }
   ],
   "source": [
    "# with open(output, mode='w') as f:\n",
    "#    print(a, b, file=f)\n",
    "print(a,b)"
   ]
  }
 ],
 "metadata": {
  "kernelspec": {
   "display_name": "Python 3 (ipykernel)",
   "language": "python",
   "name": "python3"
  },
  "language_info": {
   "codemirror_mode": {
    "name": "ipython",
    "version": 3
   },
   "file_extension": ".py",
   "mimetype": "text/x-python",
   "name": "python",
   "nbconvert_exporter": "python",
   "pygments_lexer": "ipython3",
   "version": "3.8.10"
  }
 },
 "nbformat": 4,
 "nbformat_minor": 5
}
