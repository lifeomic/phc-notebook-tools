{
 "cells": [
  {
   "cell_type": "code",
   "execution_count": null,
   "source": [
    "a: str = 'foo' # a variable\n",
    "\n",
    "in_file = 'input.txt' # input file\n",
    "out_file = 'output.txt' # output file"
   ],
   "outputs": [],
   "metadata": {
    "tags": [
     "parameters"
    ]
   }
  },
  {
   "cell_type": "code",
   "execution_count": null,
   "source": [
    "with open(out_file, mode='w') as output, open(in_file, mode='r') as input:\n",
    "    print(a, input.read(), file=output)\n",
    "    print('it worked!')"
   ],
   "outputs": [],
   "metadata": {}
  }
 ],
 "metadata": {
  "kernelspec": {
   "display_name": "Python 3 (ipykernel)",
   "language": "python",
   "name": "python3"
  },
  "language_info": {
   "codemirror_mode": {
    "name": "ipython",
    "version": 3
   },
   "file_extension": ".py",
   "mimetype": "text/x-python",
   "name": "python",
   "nbconvert_exporter": "python",
   "pygments_lexer": "ipython3",
   "version": "3.8.10"
  }
 },
 "nbformat": 4,
 "nbformat_minor": 5
}